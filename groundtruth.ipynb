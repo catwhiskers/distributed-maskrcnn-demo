{
 "cells": [
  {
   "cell_type": "code",
   "execution_count": null,
   "id": "c813f379",
   "metadata": {},
   "outputs": [],
   "source": [
    "%matplotlib inline\n",
    "import os\n",
    "from collections import namedtuple\n",
    "from collections import defaultdict\n",
    "from collections import Counter\n",
    "from datetime import datetime\n",
    "import itertools\n",
    "import base64\n",
    "import glob\n",
    "import json\n",
    "import random\n",
    "import time\n",
    "import imageio\n",
    "import numpy as np\n",
    "import matplotlib\n",
    "import matplotlib.pyplot as plt\n",
    "import shutil\n",
    "from matplotlib.backends.backend_pdf import PdfPages\n",
    "from sklearn.metrics import confusion_matrix\n",
    "import boto3\n",
    "import botocore\n",
    "import sagemaker\n",
    "from urllib.parse import urlparse\n"
   ]
  },
  {
   "cell_type": "code",
   "execution_count": null,
   "id": "0ad6164c",
   "metadata": {},
   "outputs": [],
   "source": [
    "!wget -O data.zip https://tinyurl.com/yatr4655\n",
    "!unzip data.zip    "
   ]
  },
  {
   "cell_type": "code",
   "execution_count": null,
   "id": "0ff3d09b",
   "metadata": {},
   "outputs": [],
   "source": [
    "import boto3, sagemaker\n",
    "\n",
    "region = boto3.session.Session().region_name\n",
    "session = sagemaker.session.Session()\n",
    "bucket = session.default_bucket()"
   ]
  },
  {
   "cell_type": "code",
   "execution_count": null,
   "id": "1eb69889",
   "metadata": {},
   "outputs": [],
   "source": [
    "!aws s3 cp --recursive FudanPed_gt_demo s3://$bucket/FudanPed_gt_demo/"
   ]
  },
  {
   "cell_type": "code",
   "execution_count": null,
   "id": "c38c9e94",
   "metadata": {},
   "outputs": [],
   "source": [
    "import os \n",
    "import json \n",
    "\n",
    "manifest_name = 'manifest.jsonl'\n",
    "manifestfile = open(manifest_name, 'w')\n",
    "EXP_NAME = 'FudanPed_gt_demo'\n",
    "for f in os.listdir(\"FudanPed_gt_demo\"):\n",
    "    img_path = \"s3://{}/FudanPed_gt_demo/{}\".format(bucket, f)\n",
    "    line = '{\"source-ref\": \"' + img_path + '\"}\\n'\n",
    "    manifestfile.write(line)\n",
    "manifestfile.close()    \n",
    "\n",
    "!aws s3 cp  manifest.jsonl s3://$bucket/FudanPed_gt_demo/"
   ]
  },
  {
   "cell_type": "code",
   "execution_count": null,
   "id": "264f9ce6",
   "metadata": {},
   "outputs": [],
   "source": [
    "\n",
    "CLASS_NAME = \"HUMAN\"\n",
    "CLASS_LIST = [CLASS_NAME]\n",
    "print(\"Label space is {}\".format(CLASS_LIST))\n",
    "s3 = boto3.client('s3')\n",
    "json_body = {\"labels\": [{\"label\": label} for label in CLASS_LIST]}\n",
    "with open(\"class_labels.json\", \"w\") as f:\n",
    "    json.dump(json_body, f)\n",
    "\n",
    "s3.upload_file(\"class_labels.json\", bucket, \"FudanPed_gt_demo/class_labels.json\")\n"
   ]
  },
  {
   "cell_type": "markdown",
   "id": "b7815661",
   "metadata": {},
   "source": [
    "### Configure CORS of our bucket \n",
    "\n",
    "* make sure the bucket have CORS enabled \n",
    "```\n",
    "[{\n",
    "   \"AllowedHeaders\": [],\n",
    "   \"AllowedMethods\": [\"GET\"],\n",
    "   \"AllowedOrigins\": [\"*\"],\n",
    "   \"ExposeHeaders\": []\n",
    "}]\n",
    "```"
   ]
  },
  {
   "cell_type": "code",
   "execution_count": null,
   "id": "9251f7cf",
   "metadata": {},
   "outputs": [],
   "source": [
    "cors_configuration = {\n",
    "    'CORSRules':[{\n",
    "     \"AllowedHeaders\": [],\n",
    "     \"AllowedMethods\": [\"GET\"],\n",
    "     \"AllowedOrigins\": [\"*\"],\n",
    "     \"ExposeHeaders\": []\n",
    "    }]\n",
    "}\n",
    "\n",
    "# Set the CORS configuration\n",
    "\n",
    "s3.put_bucket_cors(Bucket=bucket,\n",
    "                   CORSConfiguration=cors_configuration)"
   ]
  },
  {
   "cell_type": "markdown",
   "id": "1c9899b9",
   "metadata": {},
   "source": [
    "### Configure groundtruth workforce "
   ]
  },
  {
   "cell_type": "code",
   "execution_count": null,
   "id": "aedcef0d",
   "metadata": {},
   "outputs": [],
   "source": [
    "private_workteam_arn = \"arn:aws:sagemaker:us-west-2:294738042744:workteam/private-crowd/seal-squad\""
   ]
  },
  {
   "cell_type": "markdown",
   "id": "72bbff99",
   "metadata": {},
   "source": [
    "### Configure groundtruth job"
   ]
  },
  {
   "cell_type": "code",
   "execution_count": null,
   "id": "a6ae47a0",
   "metadata": {},
   "outputs": [],
   "source": [
    "\n",
    "\n",
    "from IPython.core.display import HTML, display\n",
    "\n",
    "\n",
    "def make_template(test_template=False, save_fname=\"instructions.template\"):\n",
    "    template = r\"\"\"<script src=\"https://assets.crowd.aws/crowd-html-elements.js\"></script>\n",
    "<crowd-form>\n",
    "  <crowd-semantic-segmentation\n",
    "    name=\"crowd-semantic-segmentation\"\n",
    "    src=\"{{ task.input.taskObject | grant_read_access }}\"\n",
    "    header=\"Please segment out all pedestrians.\"\n",
    "    labels=\"{{ task.input.labels | to_json | escape }}\"\n",
    "  >\n",
    "    <full-instructions header=\"Segmentation instructions\">\n",
    "      <ol><li><strong>Read</strong> the task carefully and inspect the image.</li>\n",
    "      <li><strong>Read</strong> the options and review the examples provided to understand more about the labels.</li>\n",
    "      <li><strong>Choose</strong> the appropriate label that best suits an object and paint that object using the tools provided.</li></ol>\n",
    "    </full-instructions>\n",
    "    <short-instructions>\n",
    "      <h2><span style=\"color: rgb(0, 138, 0);\">Good example</span></h2>\n",
    "      <p>Enter description to explain a correctly done segmentation</p>\n",
    "      <p><br></p><h2><span style=\"color: rgb(230, 0, 0);\">Bad example</span></h2>\n",
    "      <p>Enter description of an incorrectly done segmentation</p>\n",
    "    </short-instructions>\n",
    "  </crowd-semantic-segmentation>\n",
    "</crowd-form>\n",
    "    \"\"\"\n",
    "    with open(save_fname, \"w\") as f:\n",
    "        f.write(template)\n",
    "\n",
    "\n",
    "make_template(test_template=True, save_fname=\"instructions.html\")\n",
    "make_template(test_template=False, save_fname=\"instructions.template\")\n",
    "s3.upload_file(\"instructions.template\", bucket, \"FudanPed_gt_demo/instructions.template\")"
   ]
  },
  {
   "cell_type": "code",
   "execution_count": null,
   "id": "71705772",
   "metadata": {},
   "outputs": [],
   "source": [
    "# Specify ARNs for resources needed to run an object detection job.\n",
    "ac_arn_map = {\n",
    "    \"us-west-2\": \"081040173940\",\n",
    "    \"us-east-1\": \"432418664414\",\n",
    "    \"us-east-2\": \"266458841044\",\n",
    "    \"eu-west-1\": \"568282634449\",\n",
    "    \"ap-northeast-1\": \"477331159723\",\n",
    "}\n",
    "\n",
    "prehuman_arn = \"arn:aws:lambda:{}:{}:function:PRE-SemanticSegmentation\".format(region, ac_arn_map[region])\n",
    "acs_arn = \"arn:aws:lambda:{}:{}:function:ACS-SemanticSegmentation\".format(region, ac_arn_map[region])\n",
    "# labeling_algorithm_specification_arn = \"arn:aws:sagemaker:{}:027400017018:labeling-job-algorithm-specification/object-detection\".format(\n",
    "#     region\n",
    "# )"
   ]
  },
  {
   "cell_type": "code",
   "execution_count": null,
   "id": "960b52f4",
   "metadata": {},
   "outputs": [],
   "source": [
    "role = sagemaker.get_execution_role()\n",
    "\n",
    "\n",
    "task_description = \"Dear Annotator, please segment around each {}. Thank you!\".format(CLASS_NAME)\n",
    "task_keywords = [\"image\", \"semantic\", \"segmentation\"]\n",
    "task_title = \"Please draw a box around each {}.\".format(CLASS_NAME)\n",
    "job_name = \"human-segmentation-\" + str(int(time.time()))\n",
    "\n",
    "human_task_config = {\n",
    "    \"AnnotationConsolidationConfig\": {\n",
    "        \"AnnotationConsolidationLambdaArn\": acs_arn,\n",
    "    },\n",
    "    \"PreHumanTaskLambdaArn\": prehuman_arn,\n",
    "    \"MaxConcurrentTaskCount\": 200,  # 200 images will be sent at a time to the workteam.\n",
    "    \"NumberOfHumanWorkersPerDataObject\": 1,  # We will obtain and consolidate 5 human annotations for each image.\n",
    "    \"TaskAvailabilityLifetimeInSeconds\": 21600,  # Your workteam has 6 hours to complete all pending tasks.\n",
    "    \"TaskDescription\": task_description,\n",
    "    \"TaskKeywords\": task_keywords,\n",
    "    \"TaskTimeLimitInSeconds\": 300,  # Each image must be labeled within 5 minutes.\n",
    "    \"TaskTitle\": task_title,\n",
    "    \"UiConfig\": {\n",
    "        \"UiTemplateS3Uri\": \"s3://{}/{}/instructions.template\".format(bucket, EXP_NAME),\n",
    "    },\n",
    "}\n",
    "\n",
    "\n",
    "human_task_config[\"WorkteamArn\"] = private_workteam_arn\n",
    "\n",
    "ground_truth_request = {\n",
    "    \"InputConfig\": {\n",
    "        \"DataSource\": {\n",
    "            \"S3DataSource\": {\n",
    "                \"ManifestS3Uri\": \"s3://{}/{}/{}\".format(bucket, EXP_NAME, manifest_name),\n",
    "            }\n",
    "        },\n",
    "        \"DataAttributes\": {\n",
    "            \"ContentClassifiers\": [\"FreeOfPersonallyIdentifiableInformation\", \"FreeOfAdultContent\"]\n",
    "        },\n",
    "    },\n",
    "    \"OutputConfig\": {\n",
    "        \"S3OutputPath\": \"s3://{}/{}/output/\".format(bucket, EXP_NAME),\n",
    "    },\n",
    "    \"HumanTaskConfig\": human_task_config,\n",
    "    \"LabelingJobName\": job_name,\n",
    "    \"RoleArn\": role,\n",
    "    \"LabelAttributeName\": \"category-ref\",\n",
    "    \"LabelCategoryConfigS3Uri\": \"s3://{}/{}/class_labels.json\".format(bucket, EXP_NAME),\n",
    "}\n",
    "\n",
    "\n",
    "\n",
    "sagemaker_client = boto3.client(\"sagemaker\")\n",
    "sagemaker_client.create_labeling_job(**ground_truth_request)"
   ]
  },
  {
   "cell_type": "code",
   "execution_count": null,
   "id": "936776be",
   "metadata": {},
   "outputs": [],
   "source": [
    "# !aws s3 cp  s3://sagemaker-us-west-2-294738042744/FudanPed_gt_demo/output/human-segmentation-1622688978/manifests/output/output.manifest . \n",
    "!aws s3 cp  <s3 uri of manifest file> . "
   ]
  },
  {
   "cell_type": "code",
   "execution_count": null,
   "id": "95ee5ec0",
   "metadata": {},
   "outputs": [],
   "source": [
    "!cat output.manifest"
   ]
  },
  {
   "cell_type": "code",
   "execution_count": null,
   "id": "e57ed98e",
   "metadata": {},
   "outputs": [],
   "source": [
    "import json \n",
    "import boto3 \n",
    "import cv2 \n",
    "from IPython.display import Image \n",
    "\n",
    "s3 = boto3.client('s3')\n",
    "output_file = open(\"output.manifest\", \"r\")\n",
    "lines = output_file.readlines()\n",
    "for line in lines: \n",
    "    obj = json.loads(line)\n",
    "    s3_output = obj['category-ref'] \n",
    "    tokens = s3_output.split(bucket)\n",
    "    file_name = tokens[-1].split('/')[-1]\n",
    "    s3.download_file(bucket, tokens[1][1:], file_name)\n",
    "    img = Image(file_name)\n",
    "    display(img)\n",
    "    \n",
    "    cv2img = cv2.imread(file_name)\n",
    "    print(cv2img.shape)\n"
   ]
  },
  {
   "cell_type": "code",
   "execution_count": null,
   "id": "38fc472e",
   "metadata": {},
   "outputs": [],
   "source": []
  }
 ],
 "metadata": {
  "kernelspec": {
   "display_name": "conda_python3",
   "language": "python",
   "name": "conda_python3"
  },
  "language_info": {
   "codemirror_mode": {
    "name": "ipython",
    "version": 3
   },
   "file_extension": ".py",
   "mimetype": "text/x-python",
   "name": "python",
   "nbconvert_exporter": "python",
   "pygments_lexer": "ipython3",
   "version": "3.6.13"
  }
 },
 "nbformat": 4,
 "nbformat_minor": 5
}
